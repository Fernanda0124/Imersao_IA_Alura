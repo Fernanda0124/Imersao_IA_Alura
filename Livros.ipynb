{
  "nbformat": 4,
  "nbformat_minor": 0,
  "metadata": {
    "colab": {
      "provenance": [],
      "authorship_tag": "ABX9TyMO/erBEMtBpKPwQiqKfUaw",
      "include_colab_link": true
    },
    "kernelspec": {
      "name": "python3",
      "display_name": "Python 3"
    },
    "language_info": {
      "name": "python"
    }
  },
  "cells": [
    {
      "cell_type": "markdown",
      "metadata": {
        "id": "view-in-github",
        "colab_type": "text"
      },
      "source": [
        "<a href=\"https://colab.research.google.com/github/Fernanda0124/Imersao_IA_Alura/blob/main/Livros.ipynb\" target=\"_parent\"><img src=\"https://colab.research.google.com/assets/colab-badge.svg\" alt=\"Open In Colab\"/></a>"
      ]
    },
    {
      "cell_type": "code",
      "execution_count": 1,
      "metadata": {
        "id": "EAUtwhomF8JO"
      },
      "outputs": [],
      "source": [
        "!pip install -q -U google-generativeai"
      ]
    },
    {
      "cell_type": "code",
      "source": [
        "import google.generativeai as genai\n",
        "from google.colab import userdata\n",
        "api_key = userdata.get('SECRET_KEY')\n",
        "genai.configure(api_key=api_key)"
      ],
      "metadata": {
        "id": "HEBPzw5wGHBM"
      },
      "execution_count": 10,
      "outputs": []
    },
    {
      "cell_type": "code",
      "source": [
        "for m in genai.list_models():\n",
        "  if 'generateContent' in m.supported_generation_methods:\n",
        "    print(m.name)"
      ],
      "metadata": {
        "colab": {
          "base_uri": "https://localhost:8080/",
          "height": 139
        },
        "id": "VkffUfacGTzl",
        "outputId": "9db68f36-a153-47bd-bb7c-496da661943a"
      },
      "execution_count": 3,
      "outputs": [
        {
          "output_type": "stream",
          "name": "stdout",
          "text": [
            "models/gemini-1.0-pro\n",
            "models/gemini-1.0-pro-001\n",
            "models/gemini-1.0-pro-latest\n",
            "models/gemini-1.0-pro-vision-latest\n",
            "models/gemini-1.5-pro-latest\n",
            "models/gemini-pro\n",
            "models/gemini-pro-vision\n"
          ]
        }
      ]
    },
    {
      "cell_type": "code",
      "source": [
        "generation_config = {\n",
        "    \"candidate_count\": 1,\n",
        "    \"temperature\": 0.5,\n",
        "}\n",
        "model = genai.GenerativeModel(model_name=\"gemini-1.0-pro\",\n",
        "                              generation_config=generation_config)\n",
        ""
      ],
      "metadata": {
        "id": "mOu6JUMzGY0E"
      },
      "execution_count": 4,
      "outputs": []
    },
    {
      "cell_type": "code",
      "source": [
        "response = model.generate_content(\"Quero indicações de livros de 5 categorias diferentes.\")\n",
        "print(response.text)"
      ],
      "metadata": {
        "colab": {
          "base_uri": "https://localhost:8080/",
          "height": 694
        },
        "id": "JeJ1dNRQGiNM",
        "outputId": "0bfe2178-dd19-448d-a992-0327ca6b037d"
      },
      "execution_count": 5,
      "outputs": [
        {
          "output_type": "stream",
          "name": "stdout",
          "text": [
            "**Ficção Científica:**\n",
            "\n",
            "* \"Duna\" de Frank Herbert\n",
            "* \"Neuromancer\" de William Gibson\n",
            "* \"O Guia do Mochileiro das Galáxias\" de Douglas Adams\n",
            "* \"O Conto da Aia\" de Margaret Atwood\n",
            "* \"2001: Uma Odisseia no Espaço\" de Arthur C. Clarke\n",
            "\n",
            "**Fantasia:**\n",
            "\n",
            "* \"O Senhor dos Anéis\" de J.R.R. Tolkien\n",
            "* \"Uma Canção de Gelo e Fogo\" de George R.R. Martin\n",
            "* \"Harry Potter e a Pedra Filosofal\" de J.K. Rowling\n",
            "* \"O Nome do Vento\" de Patrick Rothfuss\n",
            "* \"O Caminho dos Reis\" de Brandon Sanderson\n",
            "\n",
            "**Romance:**\n",
            "\n",
            "* \"Orgulho e Preconceito\" de Jane Austen\n",
            "* \"O Grande Gatsby\" de F. Scott Fitzgerald\n",
            "* \"Matar a Sabiá\" de Harper Lee\n",
            "* \"Uma História de Amor\" de Erich Segal\n",
            "* \"A Escolha\" de Nicholas Sparks\n",
            "\n",
            "**Não Ficção:**\n",
            "\n",
            "* \"Sapiens: Uma Breve História da Humanidade\" de Yuval Noah Harari\n",
            "* \"Cosmos\" de Carl Sagan\n",
            "* \"O Poder do Hábito\" de Charles Duhigg\n",
            "* \"O Mundo Assombrado pelos Demônios\" de Carl Sagan\n",
            "* \"Por que Dormimos\" de Matthew Walker\n",
            "\n",
            "**Autoajuda:**\n",
            "\n",
            "* \"O Poder do Agora\" de Eckhart Tolle\n",
            "* \"Os 7 Hábitos das Pessoas Altamente Eficazes\" de Stephen Covey\n",
            "* \"Pai Rico, Pai Pobre\" de Robert Kiyosaki\n",
            "* \"Como Fazer Amigos e Influenciar Pessoas\" de Dale Carnegie\n",
            "* \"Mindset: A Nova Psicologia do Sucesso\" de Carol Dweck\n"
          ]
        }
      ]
    },
    {
      "cell_type": "code",
      "source": [
        "chat = model.start_chat(history=[])"
      ],
      "metadata": {
        "id": "m4xDsPcJG0e9"
      },
      "execution_count": 6,
      "outputs": []
    },
    {
      "cell_type": "code",
      "source": [
        "prompt = input(\"Comando: \")\n",
        "\n",
        "while prompt != \"fim\":\n",
        "  response = chat.send_message(prompt)\n",
        "  print(\"Resposta: \", response.text,\"\\n\")\n",
        "  prompt = input(\"Esperando comando: \")"
      ],
      "metadata": {
        "colab": {
          "base_uri": "https://localhost:8080/",
          "height": 922
        },
        "id": "7hvEyxz7G4oD",
        "outputId": "e45cae5f-8e25-4531-87d7-d127a4497eb4"
      },
      "execution_count": 7,
      "outputs": [
        {
          "name": "stdout",
          "output_type": "stream",
          "text": [
            "Comando: Livros sobre arduino\n",
            "Resposta:  **Livros para Iniciantes**\n",
            "\n",
            "* **Arduino para Iniciantes** por John Boxall\n",
            "* **Arduino: Guia Prático para Iniciantes** por Massimo Banzi e Michael Shiloh\n",
            "* **Arduino: Guia Completa para Iniciantes** por Simon Monk\n",
            "* **Arduino para Dummies** por John Nussey\n",
            "* **Arduino: Passo a Passo** por James Arthur\n",
            "\n",
            "**Livros Intermediários**\n",
            "\n",
            "* **Arduino Projetos Práticos para o Mundo Real** por Neil Cameron\n",
            "* **Arduino: Um Guia Avançado** por Jonathan Oxer e Hugh Blemings\n",
            "* **Arduino: Projetos de Automação Residencial** por Thomas Brühlmann\n",
            "* **Arduino: Projetos de Robótica** por Amit Singh\n",
            "* **Arduino: Projetos de Internet das Coisas** por Peter Waher\n",
            "\n",
            "**Livros Avançados**\n",
            "\n",
            "* **Arduino: Guia de Referência** por Massimo Banzi e Michael Shiloh\n",
            "* **Arduino: Desenvolvimento Avançado** por Rick Blum\n",
            "* **Arduino: Programação Avançada** por Andrew Blum\n",
            "* **Arduino: Sistema Operacional em Tempo Real** por Stuart Gross\n",
            "* **Arduino: Técnicas de Depuração** por Peter Dannegger\n",
            "\n",
            "**Livros Especializados**\n",
            "\n",
            "* **Arduino para Artistas** por Phil Torrone e John Maeda\n",
            "* **Arduino para Músicos** por Scott Wilson\n",
            "* **Arduino para Engenheiros** por Robert Faludi\n",
            "* **Arduino para Cientistas** por James Arthur\n",
            "* **Arduino para Educadores** por John Boxall \n",
            "\n",
            "Esperando comando: quais são os Arduino para Engenheiros\n",
            "Resposta:  **Livros Arduino para Engenheiros:**\n",
            "\n",
            "* **Arduino: Guia de Referência** por Massimo Banzi e Michael Shiloh\n",
            "* **Arduino: Desenvolvimento Avançado** por Rick Blum\n",
            "* **Arduino: Programação Avançada** por Andrew Blum\n",
            "* **Arduino: Sistema Operacional em Tempo Real** por Stuart Gross\n",
            "* **Arduino: Técnicas de Depuração** por Peter Dannegger\n",
            "* **Arduino para Engenheiros** por Robert Faludi\n",
            "* **Arduino: Projetos Práticos para Engenheiros** por Neil Cameron\n",
            "* **Arduino: Projetos de Automação Industrial** por Thomas Brühlmann\n",
            "* **Arduino: Projetos de Controle de Processos** por Jonathan Oxer e Hugh Blemings\n",
            "* **Arduino: Projetos de Robótica para Engenheiros** por Amit Singh\n",
            "* **Arduino: Projetos de Internet das Coisas para Engenheiros** por Peter Waher\n",
            "\n",
            "Esses livros fornecem uma base sólida nos conceitos e técnicas avançadas de Arduino, além de orientações práticas para projetar e implementar soluções de engenharia usando a plataforma Arduino. \n",
            "\n",
            "Esperando comando: fim\n"
          ]
        }
      ]
    }
  ]
}